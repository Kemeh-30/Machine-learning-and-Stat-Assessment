{
 "cells": [
  {
   "cell_type": "markdown",
   "metadata": {},
   "source": [
    "## Machine learning\n",
    "\n",
    "Assesment task\n",
    "\n",
    "Adedoyinsola Fifo\n",
    "\n",
    "***\n"
   ]
  },
  {
   "cell_type": "markdown",
   "metadata": {},
   "source": [
    "## Task 1\n",
    "\n",
    "\n",
    "Square roots are difficult to calculate. In Python, you typically\n",
    "use the power operator (a double asterisk) or a package such\n",
    "as math. In this task,1 you should write a function sqrt(x)\n",
    "approximate the square root of a floating point number x without\n",
    "using the power operator or a package.\n",
    "Rather, you should use the Newton’s method.2 Start with an 2 Square Roots via Newton’s Method.\n",
    "initial guess for the square root called z0. You then repeatedly\n",
    "improve it using the following formula, until the difference between some previous guess zi and the next zi+1\n",
    "is less than some\n",
    "threshold, say 0.01.\n",
    "\n",
    "zi+1 = zi −  zi × zi − x/2zi\n"
   ]
  },
  {
   "cell_type": "code",
   "execution_count": 18,
   "metadata": {},
   "outputs": [],
   "source": [
    "def sqrt(x):\n",
    "    # initial guess for the square root\n",
    "    z = x / 4.0\n",
    "\n",
    "    # loop until we are accurate enough\n",
    "    for i in range(100):\n",
    "        # Newton’s method for a better approximation\n",
    "        z = z - ((z * z - x) / (2 * z))\n",
    "        \n",
    "    # z should now be a good approximation for the square root\n",
    "    return z\n"
   ]
  },
  {
   "cell_type": "code",
   "execution_count": 19,
   "metadata": {},
   "outputs": [
    {
     "data": {
      "text/plain": [
       "1.7320508075688774"
      ]
     },
     "execution_count": 19,
     "metadata": {},
     "output_type": "execute_result"
    }
   ],
   "source": [
    "sqrt(3)"
   ]
  },
  {
   "cell_type": "code",
   "execution_count": 20,
   "metadata": {},
   "outputs": [
    {
     "data": {
      "text/plain": [
       "1.7320508075688772"
      ]
     },
     "execution_count": 20,
     "metadata": {},
     "output_type": "execute_result"
    }
   ],
   "source": [
    "3**0.5"
   ]
  },
  {
   "cell_type": "markdown",
   "metadata": {},
   "source": [
    "Note\n",
    "\n",
    "1. The method starts with an initial guess for the square root, denoted as z. In this code, the initial guess is set to x / 4.0, where x is the input number for which we want to find the square root.\n",
    "\n",
    "2. The algorithm iteratively refines the guess using the following formula:\n",
    "zi+1 = zi - ((zi * zi - x) / (2 * zi))\n",
    "\n",
    "zi represents the current guess for the square root.\n",
    "zi * zi calculates the square of the current guess.\n",
    "(zi * zi - x) calculates the difference between the squared guess and the input number.\n",
    "(2 * zi) represents twice the current guess.\n",
    "The formula ((zi * zi - x) / (2 * zi)) computes the difference divided by twice the guess, giving us the correction factor for the next iteration.\n",
    "Subtracting this correction factor from the current guess (zi) refines the guess for the next iteration (zi+1)"
   ]
  },
  {
   "cell_type": "markdown",
   "metadata": {},
   "source": [
    "***\n",
    "End"
   ]
  }
 ],
 "metadata": {
  "kernelspec": {
   "display_name": "base",
   "language": "python",
   "name": "python3"
  },
  "language_info": {
   "codemirror_mode": {
    "name": "ipython",
    "version": 3
   },
   "file_extension": ".py",
   "mimetype": "text/x-python",
   "name": "python",
   "nbconvert_exporter": "python",
   "pygments_lexer": "ipython3",
   "version": "3.9.13"
  }
 },
 "nbformat": 4,
 "nbformat_minor": 2
}
